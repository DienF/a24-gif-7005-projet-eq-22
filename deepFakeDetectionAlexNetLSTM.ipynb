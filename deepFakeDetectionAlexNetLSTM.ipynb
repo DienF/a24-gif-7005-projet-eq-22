{
 "cells": [
  {
   "cell_type": "markdown",
   "metadata": {},
   "source": [
    "### Pre-processing"
   ]
  },
  {
   "cell_type": "code",
   "execution_count": null,
   "metadata": {},
   "outputs": [],
   "source": [
    "import os\n",
    "import cv2\n",
    "import json\n",
    "import random\n",
    "import shutil\n",
    "import pathlib\n",
    "import numpy as np\n",
    "from pathlib import Path\n",
    "\n",
    "import torch\n",
    "from torch.optim import Adam\n",
    "from torch.utils.data import DataLoader, Dataset, Subset\n",
    "from torchvision import transforms\n",
    "\n",
    "from sklearn.model_selection import KFold\n",
    "\n",
    "from tqdm import tqdm\n",
    "from typing import Callable, List, Optional, Tuple"
   ]
  },
  {
   "cell_type": "code",
   "execution_count": null,
   "metadata": {},
   "outputs": [],
   "source": [
    "# Initialisation des générateurs de nombres aléatoires pour garantir la reproductibilité\n",
    "torch.manual_seed(1)\n",
    "random.seed(1)\n",
    "np.random.seed(1)"
   ]
  },
  {
   "cell_type": "markdown",
   "metadata": {},
   "source": [
    "Balancement des données :"
   ]
  },
  {
   "cell_type": "code",
   "execution_count": null,
   "metadata": {},
   "outputs": [],
   "source": [
    "# Répertoire des vidéos originales et manipulées\n",
    "dataset_dir = pathlib.Path('/kaggle/input/deep-fake-detection-dfd-entire-original-dataset')\n",
    "original_videos = dataset_dir / \"DFD_original_sequences\"\n",
    "manipulated_videos = dataset_dir / \"DFD_manipulated_sequences\""
   ]
  },
  {
   "cell_type": "markdown",
   "metadata": {},
   "source": [
    "Les deux classes sont très débalancées (ratio de 1:10), on va devoir créer un nouveau dataset balancé pour ne pas que le modèle prédit seulement la classe manipulée."
   ]
  },
  {
   "cell_type": "code",
   "execution_count": null,
   "metadata": {},
   "outputs": [
    {
     "name": "stdout",
     "output_type": "stream",
     "text": [
      "Original videos: 363\n",
      "Manipulated videos: 3068\n"
     ]
    }
   ],
   "source": [
    "# Comptage des vidéos dans chaque répertoire\n",
    "num_original_videos: int = len(list(original_videos.glob(\"*.mp4\")))\n",
    "num_manipulated_videos: int = len(list(manipulated_videos.glob(\"*.mp4\")))\n",
    "print(f\"Original videos: {num_original_videos}\")\n",
    "print(f\"Manipulated videos: {num_manipulated_videos}\")"
   ]
  },
  {
   "cell_type": "markdown",
   "metadata": {},
   "source": [
    "## Helper functions"
   ]
  },
  {
   "cell_type": "code",
   "execution_count": null,
   "metadata": {},
   "outputs": [],
   "source": [
    "from PIL import Image\n",
    "\n",
    "def __getitem__(self, idx: int) -> Tuple[np.ndarray, int]:\n",
    "    \"\"\"Obtention d'un élément du jeu de données\n",
    "\n",
    "    Récupère une image et son étiquette associée à l'indice spécifié.\n",
    "    Les images sont simulées comme des tableaux NumPy. Une transformation peut être appliquée si définie.\n",
    "\n",
    "    Paramètre(s)\n",
    "    ----------\n",
    "    idx : int\n",
    "        Indice de l'élément à récupérer.\n",
    "\n",
    "    Retourne\n",
    "    -------\n",
    "    Tuple[np.ndarray, int]\n",
    "        Un tuple contenant l'image (après transformation si applicable) et l'étiquette associée.\n",
    "    \"\"\"\n",
    "    label: int = self.labels[idx]\n",
    "    # Données d'image fictives sous forme de tableau NumPy\n",
    "    image: np.ndarray = np.random.randint(0, 256, (224, 224, 3), dtype=np.uint8)  # Simulation d'une image\n",
    "    if self.transform:\n",
    "        image = self.transform(Image.fromarray(image))  # Conversion en image PIL\n",
    "    return image, label"
   ]
  },
  {
   "cell_type": "code",
   "execution_count": null,
   "metadata": {},
   "outputs": [],
   "source": [
    "def balance_dataset(original_videos_dir: Path, manipulated_videos_dir: Path, output_dir: Path, target_count: int = 75) -> Tuple[Tuple[List[Path], List[int]], Tuple[List[Path], List[int]]]:\n",
    "    \"\"\"Équilibrage du jeu de données\n",
    "\n",
    "    Équilibre un jeu de données en sélectionnant un nombre égal de vidéos originales\n",
    "    et DeepFake, puis les copie dans un répertoire de sortie.\n",
    "\n",
    "    Paramètre(s)\n",
    "    ----------\n",
    "    original_videos_dir : Path\n",
    "        Répertoire contenant les vidéos originales.\n",
    "    manipulated_videos_dir : Path\n",
    "        Répertoire contenant les vidéos DeepFake.\n",
    "    output_dir : Path\n",
    "        Répertoire où les vidéos équilibrées seront sauvegardées.\n",
    "    target_count : int, optional\n",
    "        Nombre de vidéos à sélectionner pour chaque classe, par défaut 75.\n",
    "\n",
    "    Retourne\n",
    "    -------\n",
    "    Tuple[Tuple[List[Path], List[int]], Tuple[List[Path], List[int]]]\n",
    "        Une paire de tuples contenant les listes de chemins des vidéos sélectionnées\n",
    "        et leurs étiquettes correspondantes (0 pour originales, 1 pour DeepFake).\n",
    "    \"\"\"\n",
    "    # Création des répertoires de sortie\n",
    "    balanced_original_dir: Path = output_dir / \"original\"\n",
    "    balanced_manipulated_dir: Path = output_dir / \"manipulated\"\n",
    "    balanced_original_dir.mkdir(parents=True, exist_ok=True)\n",
    "    balanced_manipulated_dir.mkdir(parents=True, exist_ok=True)\n",
    "    # Échantillonnage des vidéos\n",
    "    original_videos: List[Path] = list(original_videos_dir.glob(\"*.mp4\"))\n",
    "    manipulated_videos: List[Path] = list(manipulated_videos_dir.glob(\"*.mp4\"))\n",
    "    sampled_original: List[Path] = random.sample(original_videos, target_count)\n",
    "    sampled_manipulated: List[Path] = random.sample(manipulated_videos, target_count)\n",
    "    # Copie des vidéos échantillonnées dans les répertoires de sortie\n",
    "    for file in sampled_original:\n",
    "        shutil.copy(file, balanced_original_dir / file.name)\n",
    "    for file in sampled_manipulated:\n",
    "        shutil.copy(file, balanced_manipulated_dir / file.name)\n",
    "    # print(f\"Jeu de données équilibré créé avec {target_count} vidéos dans chaque classe.\")\n",
    "    return (sampled_original, [0] * len(sampled_original)), (sampled_manipulated, [1] * len(sampled_manipulated))"
   ]
  },
  {
   "cell_type": "code",
   "execution_count": null,
   "metadata": {},
   "outputs": [],
   "source": [
    "# Nouvelle vérification du nombre de vidéos dans les répertoires\n",
    "num_original_videos = len(list(original_videos.glob(\"*.mp4\")))  # Modification de l'extension du fichier si nécessaire\n",
    "num_manipulated_videos = len(list(manipulated_videos.glob(\"*.mp4\")))\n",
    "# Affichage du nombre de vidéos par catégorie\n",
    "# print(f\"Vidéos originelles : {num_original_videos}\")\n",
    "# print(f\"Vidéos DeedFake : {num_manipulated_videos}\")"
   ]
  },
  {
   "cell_type": "code",
   "execution_count": null,
   "metadata": {},
   "outputs": [
    {
     "name": "stdout",
     "output_type": "stream",
     "text": [
      "Balanced dataset created with 150 videos in each class.\n",
      "Number of videos in 'original': 150\n",
      "Number of videos in 'manipulated': 150\n"
     ]
    }
   ],
   "source": [
    "# Création des répertoires pour les vidéos équilibrées\n",
    "balanced_dir: Path = pathlib.Path('./balanced_dataset')\n",
    "balanced_samples: Tuple[Tuple[List[Path], List[int]], Tuple[List[Path], List[int]]] = balance_dataset(original_videos, manipulated_videos, balanced_dir, 150)\n",
    "# Redéfinition des chemins pour les vidéos équilibrées\n",
    "balanced_original: Path = balanced_dir / \"original\"\n",
    "balanced_manipulated: Path = balanced_dir / \"manipulated\"\n",
    "# S'assure que les répertoires de sortie existent\n",
    "balanced_original.mkdir(parents=True, exist_ok=True)\n",
    "balanced_manipulated.mkdir(parents=True, exist_ok=True)\n",
    "# Mise à jour des chemins du jeu de données pour pointer vers le nouveau sous-ensemble\n",
    "balanced_video_paths: List[Path] = []\n",
    "balanced_labels: List[int] = []\n",
    "for video_path in balanced_original.glob(\"*.mp4\"):\n",
    "    balanced_video_paths.append(video_path)\n",
    "    balanced_labels.append(0)  # Étiquette 0 pour les vidéos originelles\n",
    "for video_path in balanced_manipulated.glob(\"*.mp4\"):\n",
    "    balanced_video_paths.append(video_path)\n",
    "    balanced_labels.append(1)  # Étiquette 1 pour les vidéos DeepFake\n",
    "# Affichage de l'état du jeu de données équilibré\n",
    "print(f\"Balanced dataset created with 150 videos in each class.\")\n",
    "# print(f\"Vidéos originelles enregistrées dans : {balanced_original}\")\n",
    "# print(f\"Vidéos DeepFake enregistrées dans : {balanced_manipulated}\")\n",
    "# Vérification des vidéos après équilibrage\n",
    "balanced_original_dir: Path = pathlib.Path('./balanced_dataset/original')\n",
    "balanced_manipulated_dir: Path = pathlib.Path('./balanced_dataset/manipulated')\n",
    "original_count = len(list(balanced_original_dir.glob(\"*.mp4\")))\n",
    "manipulated_count = len(list(balanced_manipulated_dir.glob(\"*.mp4\")))\n",
    "print(f\"Number of videos in 'original' : {original_count}\")\n",
    "print(f\"Number of videos in 'manipulated' : {manipulated_count}\")"
   ]
  },
  {
   "cell_type": "code",
   "execution_count": null,
   "metadata": {},
   "outputs": [],
   "source": [
    "class VideoDataset(Dataset):\n",
    "    \"\"\"Jeu de données pour charger des vidéos et leurs étiquettes associées\n",
    "\n",
    "    Cette classe gère le chargement des images de vidéos, l'application\n",
    "    d'éventuelles transformations, et la préparation des séquences pour\n",
    "    des modèles d'apprentissage profond.\n",
    "\n",
    "    Paramètre(s)\n",
    "    ----------\n",
    "    video_paths : List[Path]\n",
    "        Liste des chemins des fichiers vidéo.\n",
    "    labels : List[int]\n",
    "        Liste des étiquettes correspondant à chaque vidéo.\n",
    "    transform : Optional[Callable], optional\n",
    "        Transformation à appliquer aux images, par défaut None.\n",
    "    frames_per_video : int, optional\n",
    "        Nombre d'images à charger par vidéo, par défaut 16.\n",
    "    \"\"\"\n",
    "\n",
    "    def __init__(self, video_paths: List[Path], labels: List[int], transform: Optional[Callable] = None, frames_per_video: int = 16) -> None:\n",
    "        self.video_paths: List[Path] = video_paths\n",
    "        self.labels: List[int] = labels\n",
    "        self.transform: Optional[Callable] = transform\n",
    "        self.frames_per_video: int = frames_per_video\n",
    "\n",
    "    def __len__(self) -> int:\n",
    "        \"\"\"Retourne la taille du jeu de données.\"\"\"\n",
    "        return len(self.video_paths)\n",
    "\n",
    "    def __getitem__(self, idx: int) -> Tuple[torch.Tensor, int]:\n",
    "        \"\"\"Retourne une séquence d'images et l'étiquette associée.\n",
    "\n",
    "        Paramètre(s)\n",
    "        ----------\n",
    "        idx : int\n",
    "            Indice de l'échantillon à récupérer.\n",
    "\n",
    "        Retourne\n",
    "        -------\n",
    "        Tuple[torch.Tensor, int]\n",
    "            Séquence d'images sous forme de tenseur PyTorch et étiquette associée.\n",
    "        \"\"\"\n",
    "        video_path: Path = self.video_paths[idx]\n",
    "        label: int = self.labels[idx]\n",
    "        # Chargement de plusieurs images de la vidéo\n",
    "        frames: List[np.ndarray] = self.load_video_frames(video_path, self.frames_per_video)\n",
    "        # Application des transformations aux images\n",
    "        if self.transform:\n",
    "            frames = [self.transform(Image.fromarray(frame)) for frame in frames]\n",
    "        # Empilage des images pour former une séquence\n",
    "        frames_tensor: torch.Tensor = torch.stack(frames)\n",
    "        return frames_tensor, label\n",
    "\n",
    "    def load_video_frames(self, video_path: Path, num_frames: int) -> List[np.ndarray]:\n",
    "        \"\"\"Charge un nombre spécifique d'images d'une vidéo.\n",
    "\n",
    "        Paramètre(s)\n",
    "        ----------\n",
    "        video_path : Path\n",
    "            Chemin de la vidéo.\n",
    "        num_frames : int\n",
    "            Nombre de images à charger.\n",
    "\n",
    "        Retourne\n",
    "        -------\n",
    "        List[np.ndarray]\n",
    "            Liste des images sous forme de tableaux NumPy (en RGB).\n",
    "        \"\"\"\n",
    "        cap: cv2.VideoCapture = cv2.VideoCapture(str(video_path))\n",
    "        if not cap.isOpened():\n",
    "            print(f\"Erreur lors de l'ouverture de la vidéo : {video_path}\")\n",
    "            return []  # Retourne une liste vide si la vidéo ne peut pas être ouverte\n",
    "        frame_count: int = int(cap.get(cv2.CAP_PROP_FRAME_COUNT))\n",
    "        frame_indices: np.ndarray = np.linspace(0, frame_count - 1, num_frames, dtype=np.int32)\n",
    "        frames: List[np.ndarray] = []\n",
    "        for idx in frame_indices:\n",
    "            cap.set(cv2.CAP_PROP_POS_FRAMES, idx)\n",
    "            ret, frame = cap.read()\n",
    "            if ret:\n",
    "                frame_rgb: np.ndarray = cv2.cvtColor(frame, cv2.COLOR_BGR2RGB)\n",
    "                frames.append(frame_rgb)\n",
    "            else:\n",
    "                break\n",
    "        cap.release()\n",
    "        # S'il n'y a pas assez d'images, répétition de la dernière image\n",
    "        if len(frames) < num_frames:\n",
    "            frames += [frames[-1]] * (num_frames - len(frames))\n",
    "        return frames"
   ]
  },
  {
   "cell_type": "code",
   "execution_count": null,
   "metadata": {},
   "outputs": [],
   "source": [
    "# Transformations pour l'image (redimensionnement, normalisation, etc.)\n",
    "transform = transforms.Compose([\n",
    "    transforms.Resize((224, 224)),\n",
    "    transforms.ToTensor(),  \n",
    "    transforms.Normalize(mean=[0.485, 0.456, 0.406], std=[0.229, 0.224, 0.225])\n",
    "])"
   ]
  },
  {
   "cell_type": "code",
   "execution_count": null,
   "metadata": {},
   "outputs": [],
   "source": [
    "# Initialisation du jeu de données avec les vidéos et leurs étiquettes\n",
    "balanced_dataset: VideoDataset = VideoDataset(balanced_video_paths, balanced_labels, transform=transform)"
   ]
  },
  {
   "cell_type": "code",
   "execution_count": null,
   "metadata": {},
   "outputs": [],
   "source": [
    "from torch.utils.tensorboard import SummaryWriter\n",
    "# Initialisation du SummaryWriter pour TensorBoard\n",
    "writer: SummaryWriter = SummaryWriter(log_dir=\"runs/cross_validation\")"
   ]
  },
  {
   "cell_type": "code",
   "execution_count": null,
   "metadata": {},
   "outputs": [],
   "source": [
    "# Validation croisée en 3 plis\n",
    "kf: KFold = KFold(n_splits=3, shuffle=True, random_state=1)\n",
    "fold_splits: List[Tuple[np.ndarray, np.ndarray]] = [(train_idx, val_idx) for train_idx, val_idx in kf.split(balanced_video_paths)]"
   ]
  },
  {
   "cell_type": "markdown",
   "metadata": {},
   "source": [
    "### Training"
   ]
  },
  {
   "cell_type": "markdown",
   "metadata": {},
   "source": [
    "AlexNet pré-entraîné avec :\n",
    "- Dropout\n",
    "- LSTM"
   ]
  },
  {
   "cell_type": "code",
   "execution_count": null,
   "metadata": {},
   "outputs": [],
   "source": [
    "import torch\n",
    "import torch.nn as nn\n",
    "from torchvision import models\n",
    "from torchvision.models import AlexNet_Weights\n",
    "\n",
    "class AlexNetLSTM(nn.Module):\n",
    "    \"\"\"Combinaison d'un extracteur de caractéristiques basé sur AlexNet, d'un LSTM et d'un mécanisme d'attention pour la classification vidéo\n",
    "\n",
    "    Cette architecture utilise AlexNet pour extraire les caractéristiques spatiales de chaque image,\n",
    "    suivie d'un LSTM pour capturer les dépendances temporelles dans une séquence d'images, et un\n",
    "    module d'attention pour pondérer les sorties temporelles du LSTM.\n",
    "\n",
    "    Parameters\n",
    "    ----------\n",
    "    num_classes : int, optional\n",
    "        Nombre de classes pour la classification, par défaut 2.\n",
    "    lstm_hidden_size : int, optional\n",
    "        Taille de la couche cachée du LSTM, par défaut 256.\n",
    "    lstm_num_layers : int, optional\n",
    "        Nombre de couches dans le LSTM, par défaut 1.\n",
    "    freeze_feature_extractor : bool, optional\n",
    "        Si True, gèle les poids de l'extracteur de caractéristiques AlexNet, par défaut True.\n",
    "\n",
    "    Attributes\n",
    "    ----------\n",
    "    feature_extractor : nn.Module\n",
    "        Extracteur de caractéristiques basé sur AlexNet.\n",
    "    avgpool : nn.AdaptiveAvgPool2d\n",
    "        Pooling adaptatif pour réduire les dimensions des caractéristiques.\n",
    "    fc_features : nn.Sequential\n",
    "        Couche linéaire pour réduire et normaliser les caractéristiques avant le LSTM.\n",
    "    lstm : nn.LSTM\n",
    "        Réseau LSTM pour capturer les dépendances temporelles.\n",
    "    attention : nn.Sequential\n",
    "        Module d'attention pour pondérer les sorties temporelles du LSTM.\n",
    "    fc : nn.Sequential\n",
    "        Couche linéaire pour la classification finale.\n",
    "    \"\"\"\n",
    "\n",
    "    def __init__(self, num_classes: int = 2, lstm_hidden_size: int = 256, lstm_num_layers: int = 1, freeze_feature_extractor: bool = True) -> None:\n",
    "        super(AlexNetLSTM, self).__init__()\n",
    "        # Chargement des caractéristiques d'AlexNet pré-entraîné\n",
    "        self.feature_extractor: nn.Module = models.alexnet(weights=AlexNet_Weights.IMAGENET1K_V1).features\n",
    "        self.avgpool: nn.AdaptiveAvgPool2d = nn.AdaptiveAvgPool2d((6, 6))\n",
    "        # Réduction des dimensions des caractéristiques avec normalisation et dropout\n",
    "        self.fc_features: nn.Sequential = nn.Sequential(\n",
    "            nn.Linear(256 * 6 * 6, 1024),  # AlexNet produit 256 cartes de taille 6x6\n",
    "            nn.BatchNorm1d(1024),\n",
    "            nn.ReLU(),\n",
    "            nn.Dropout(0.5)\n",
    "        )\n",
    "        # Optionnel : geler l'extracteur de caractéristiques\n",
    "        if freeze_feature_extractor:\n",
    "            for param in self.feature_extractor.parameters():\n",
    "                param.requires_grad = False\n",
    "        # LSTM pour la modélisation temporelle\n",
    "        self.lstm: nn.LSTM = nn.LSTM(\n",
    "            input_size=1024,  # Taille des caractéristiques en entrée\n",
    "            hidden_size=lstm_hidden_size,  # Taille de la couche cachée\n",
    "            num_layers=lstm_num_layers,  # Nombre de couches LSTM\n",
    "            batch_first=True  # L'entrée est de la forme (batch_size, seq_len, features)\n",
    "        )\n",
    "        # Mécanisme d'attention pour pondérer les sorties temporelles du LSTM\n",
    "        self.attention = nn.Sequential(\n",
    "            nn.Linear(lstm_hidden_size, 128),\n",
    "            nn.Tanh(),\n",
    "            nn.Linear(128, 1),\n",
    "            nn.Softmax(dim=1)  # Normalisation des poids d'attention sur la dimension temporelle\n",
    "        )\n",
    "        # Couche de classification finale\n",
    "        self.fc = nn.Sequential(\n",
    "            nn.Linear(lstm_hidden_size, 512),\n",
    "            nn.BatchNorm1d(512),\n",
    "            nn.ReLU(),\n",
    "            nn.Dropout(0.5),\n",
    "            nn.Linear(512, num_classes)  # Prédiction finale des classes\n",
    "        )\n",
    "\n",
    "    def forward(self, x: torch.Tensor) -> torch.Tensor:\n",
    "        \"\"\"\n",
    "        Passe avant du modèle.\n",
    "\n",
    "        Paramètre(s)\n",
    "        ----------\n",
    "        x : torch.Tensor\n",
    "            Tenseur d'entrée de forme (batch_size, seq_len, c, h, w), où :\n",
    "            - batch_size : Taille du lot\n",
    "            - seq_len : Longueur de la séquence temporelle\n",
    "            - c : Nombre de canaux (typiquement 3 pour RGB)\n",
    "            - h : Hauteur de l'image\n",
    "            - w : Largeur de l'image\n",
    "\n",
    "        Retourne\n",
    "        -------\n",
    "        torch.Tensor\n",
    "            Prédictions de forme (batch_size, num_classes).\n",
    "        \"\"\"\n",
    "        batch_size, seq_len, c, h, w = x.size()\n",
    "        # Redimensionnement de l'entrée pour l'extracteur de caractéristiques\n",
    "        x = x.view(batch_size * seq_len, c, h, w)\n",
    "        features: torch.Tensor = self.feature_extractor(x)\n",
    "        # Pooling adaptatif et aplatissage\n",
    "        features = self.avgpool(features)\n",
    "        features = torch.flatten(features, start_dim=1)\n",
    "        features = self.fc_features(features)\n",
    "        # Redimensionnement pour l'entrée du LSTM\n",
    "        features = features.view(batch_size, seq_len, -1)\n",
    "        # Aplatissage des poids du LSTM (optimisation pour CuDNN)\n",
    "        self.lstm.flatten_parameters()\n",
    "        # Passage avant à travers le LSTM\n",
    "        lstm_out, _ = self.lstm(features)  # lstm_out : (batch_size, seq_len, lstm_hidden_size)\n",
    "        # Application du mécanisme d'attention\n",
    "        attention_weights: torch.Tensor = self.attention(lstm_out)  # (batch_size, seq_len, 1)\n",
    "        context_vector: torch.Tensor = torch.sum(attention_weights * lstm_out, dim=1)  # (batch_size, lstm_hidden_size)\n",
    "        # Passage final à travers le classifieur\n",
    "        output: torch.Tensor = self.fc(context_vector)\n",
    "        return output"
   ]
  },
  {
   "cell_type": "code",
   "execution_count": null,
   "metadata": {},
   "outputs": [],
   "source": [
    "# Détection du périphérique pour l'entraînement (GPU si disponible)\n",
    "device: torch.device = torch.device(\"cuda\" if torch.cuda.is_available() else \"cpu\")\n",
    "# Initialisation du modèle, de la fonction de perte et de l'optimiseur\n",
    "model: nn.Module = AlexNetLSTM(num_classes=2).to(device)\n",
    "criterion: nn.CrossEntropyLoss = nn.CrossEntropyLoss()\n",
    "optimizer: torch.optim.Adam = Adam(model.parameters(), lr=0.001, betas=(0.9, 0.999), eps=1e-08)"
   ]
  },
  {
   "cell_type": "code",
   "execution_count": null,
   "metadata": {},
   "outputs": [],
   "source": [
    "def train_and_validate(model: nn.Module, train_loader: DataLoader, val_loader: DataLoader, epochs: int, fold_idx: int, writer: SummaryWriter, patience: int = 5) -> Tuple[float, Optional[dict], List[float], List[float]]:\n",
    "    \"\"\"Entraînement et validation d'un modèle PyTorch sur plusieurs époques\n",
    "\n",
    "    Cette fonction alterne entre les étapes d'entraînement et de validation à chaque époque,\n",
    "    en affichant les pertes et la précision à la fin de chaque phase.\n",
    "\n",
    "    Paramètre(s)\n",
    "    ----------\n",
    "    model : nn.Module\n",
    "        Le modèle PyTorch à entraîner.\n",
    "    train_loader : DataLoader\n",
    "        DataLoader pour l'ensemble d'entraînement.\n",
    "    val_loader : DataLoader\n",
    "        DataLoader pour l'ensemble de validation.\n",
    "    epochs : int\n",
    "        Nombre d'époques pour l'entraînement.\n",
    "    fold_idx : int\n",
    "        Indice du pli pour le logging.\n",
    "    writer : SummaryWriter\n",
    "        Writer pour enregistrer les métriques dans TensorBoard.\n",
    "    patience : int, optional\n",
    "        Nombre d'époques sans amélioration avant l'arrêt anticipé, par défaut 5.\n",
    "\n",
    "    Retourne\n",
    "    -------\n",
    "    Tuple[float, Optional[dict], List[float], List[float]]\n",
    "        - Meilleure précision sur les données de validation.\n",
    "        - État du modèle correspondant à la meilleure précision.\n",
    "        - Liste des pertes d'entraînement par époque.\n",
    "        - Liste des pertes de validation par époque.\n",
    "    \"\"\"\n",
    "    train_losses: List[float] = []\n",
    "    val_losses: List[float] = []\n",
    "    best_epoch_accuracy: float = 0.0\n",
    "    best_model_state: Optional[dict] = None\n",
    "    epochs_no_improve: int = 0\n",
    "    for epoch in range(epochs):\n",
    "        model.train()  # Passe le modèle en mode entraînement\n",
    "        running_train_loss: float = 0.0\n",
    "         # Boucle d'entraînement avec barre de progression\n",
    "        print(f\"Epoch {epoch + 1}/{epochs}\")\n",
    "        train_progress = tqdm(train_loader, desc=\"Training\")\n",
    "        for videos, labels in train_progress:\n",
    "            videos, labels = videos.to(device), labels.to(device)\n",
    "            # Passage avant\n",
    "            optimizer.zero_grad()\n",
    "            outputs: torch.Tensor = model(videos)\n",
    "            loss: torch.Tensor = criterion(outputs, labels)\n",
    "            # Rétropropagation et mise à jour de l'optimiseur\n",
    "            loss.backward()\n",
    "            optimizer.step()\n",
    "            running_train_loss += loss.item()\n",
    "            train_progress.set_postfix(loss=loss.item())\n",
    "        avg_train_loss: float = running_train_loss / len(train_loader)\n",
    "        train_losses.append(avg_train_loss)\n",
    "        # Boucle de validation\n",
    "        model.eval()  # Passe le modèle en mode évaluation\n",
    "        val_loss: float = 0.0\n",
    "        correct: int = 0\n",
    "        total: int = 0\n",
    "        with torch.no_grad():\n",
    "            val_progress = tqdm(val_loader, desc=\"Validating\")\n",
    "            for videos, labels in val_progress:\n",
    "                videos, labels = videos.to(device), labels.to(device)\n",
    "                # Passage avant\n",
    "                outputs: torch.Tensor = model(videos)\n",
    "                loss: torch.Tensor = criterion(outputs, labels)\n",
    "                val_loss += loss.item()\n",
    "                # Calcul de la précision\n",
    "                _, preds = outputs.max(1)\n",
    "                correct += (preds == labels).sum().item()\n",
    "                total += labels.size(0)\n",
    "        avg_val_loss: float = val_loss / len(val_loader)\n",
    "        val_losses.append(avg_val_loss)\n",
    "        val_accuracy: float = correct / total\n",
    "        print(\n",
    "            f\"Epoch {epoch + 1} - Train Loss: {avg_train_loss:.4f}, \"\n",
    "            f\"Val Loss: {avg_val_loss:.4f}, Val Accuracy: {val_accuracy:.4f}\"\n",
    "        )\n",
    "        # Enregistrement des métriques dans TensorBoard\n",
    "        writer.add_scalar(f\"Fold_{fold_idx}/Train_Loss\", avg_train_loss, epoch + 1)\n",
    "        writer.add_scalar(f\"Fold_{fold_idx}/Val_Loss\", avg_val_loss, epoch + 1)\n",
    "        writer.add_scalar(f\"Fold_{fold_idx}/Val_Accuracy\", val_accuracy, epoch + 1)\n",
    "        # Vérifie l'amélioration\n",
    "        if val_accuracy > best_epoch_accuracy:\n",
    "            best_epoch_accuracy = val_accuracy\n",
    "            best_model_state = model.state_dict()  # Sauvegarde l'état du meilleur modèle\n",
    "            epochs_no_improve = 0\n",
    "            print(f\"New best validation accuracy: {val_accuracy:.4f}\")\n",
    "        else:\n",
    "            epochs_no_improve += 1\n",
    "        # Arrêt anticipé\n",
    "        if epochs_no_improve >= patience:\n",
    "            print(\n",
    "                f\"Early stopping triggered after {epoch + 1} epochs. \"\n",
    "                f\"No improvement for {patience} consecutive epochs.\"\n",
    "            )\n",
    "            break\n",
    "    return best_epoch_accuracy, best_model_state, train_losses, val_losses"
   ]
  },
  {
   "cell_type": "code",
   "execution_count": null,
   "metadata": {},
   "outputs": [],
   "source": [
    "from sklearn.metrics import precision_score, recall_score, f1_score, accuracy_score\n",
    "import matplotlib.pyplot as plt\n",
    "import seaborn as sns\n",
    "\n",
    "def evaluate_model(model: nn.Module, val_loader: DataLoader) -> Tuple[np.ndarray, float, float, float, float]:\n",
    "    \"\"\"Évaluation d'un modèle PyTorch sur un ensemble de validation\n",
    "\n",
    "    Cette fonction calcule les métriques de classification (matrice de confusion, précision,\n",
    "    rappel, score F1) en collectant les prédictions et les étiquettes réelles.\n",
    "\n",
    "    Paramètre(s)\n",
    "    ----------\n",
    "    model : nn.Module\n",
    "        Le modèle PyTorch à évaluer.\n",
    "    val_loader : DataLoader\n",
    "        DataLoader pour l'ensemble de validation.\n",
    "\n",
    "    Retourne\n",
    "    -------\n",
    "    Tuple[np.ndarray, float, float, float, float]\n",
    "        - Matrice de confusion (2x2) sous forme de tableau NumPy.\n",
    "        - Précision globale (accuracy).\n",
    "        - Précision pondérée (precision).\n",
    "        - Rappel pondéré (recall).\n",
    "        - Score F1 pondéré (f1_score).\n",
    "    \"\"\"\n",
    "    y_true: List[int] = []\n",
    "    y_pred: List[int] = []\n",
    "    tp: int = 0  # Vrais positifs\n",
    "    tn: int = 0  # Vrais négatifs\n",
    "    fp: int = 0  # Faux positifs\n",
    "    fn: int = 0  # Faux négatifs\n",
    "    # Collecte des prédictions et des vraies étiquettes\n",
    "    model.eval()\n",
    "    with torch.no_grad():\n",
    "        for videos, labels in val_loader:\n",
    "            videos, labels = videos.to(device), labels.to(device)\n",
    "            outputs: torch.Tensor = model(videos)\n",
    "            _, preds = torch.max(outputs, 1)\n",
    "            y_true.extend(labels.cpu().numpy())\n",
    "            y_pred.extend(preds.cpu().numpy())\n",
    "            tp += ((preds == 1) & (labels == 1)).sum().item()\n",
    "            tn += ((preds == 0) & (labels == 0)).sum().item()\n",
    "            fp += ((preds == 1) & (labels == 0)).sum().item()\n",
    "            fn += ((preds == 0) & (labels == 1)).sum().item()\n",
    "    # Calcul des métriques\n",
    "    acc: float = accuracy_score(y_true, y_pred)\n",
    "    precision: float = precision_score(y_true, y_pred, average='weighted', zero_division=1)\n",
    "    recall: float = recall_score(y_true, y_pred, average='weighted', zero_division=1)\n",
    "    f1: float = f1_score(y_true, y_pred, average='weighted', zero_division=1)\n",
    "    cm: np.ndarray = np.array([[tp, fn], [fp, tn]])\n",
    "    return cm, acc, precision, recall, f1"
   ]
  },
  {
   "cell_type": "code",
   "execution_count": null,
   "metadata": {},
   "outputs": [],
   "source": [
    "# Dictionnaire pour stocker les métriques des différents plis\n",
    "metrics = {\n",
    "    \"accuracy\": [],\n",
    "    \"preision\": [],\n",
    "    \"recall\": [],\n",
    "    \"f1_score\": []\n",
    "}"
   ]
  },
  {
   "cell_type": "code",
   "execution_count": null,
   "metadata": {},
   "outputs": [],
   "source": [
    "# Sélection des indices pour l'entraînement et la validation\n",
    "train_idx: List[int] = list(range(0, 240))  # Ajustement selon le jeu de données\n",
    "val_idx: List[int] = list(range(240, 300))\n",
    "train_dataset: Subset = Subset(balanced_dataset, train_idx)\n",
    "val_dataset: Subset = Subset(balanced_dataset, val_idx)\n",
    "# Initialisation des DataLoaders\n",
    "train_loader: DataLoader = DataLoader(train_dataset, batch_size=8, shuffle=True, num_workers=0)\n",
    "val_loader: DataLoader = DataLoader(val_dataset, batch_size=8, shuffle=False, num_workers=0)"
   ]
  },
  {
   "cell_type": "code",
   "execution_count": null,
   "metadata": {},
   "outputs": [],
   "source": [
    "def plot_confusion_matrix(cm: np.ndarray, labels: List[str] = [\"Positive\", \"Negative\"]) -> None:\n",
    "    \"\"\"Affichage d'une matrice de confusion sous forme de carte thermique (heatmap)\n",
    "\n",
    "    Cette fonction prend une matrice de confusion sous forme de tableau NumPy\n",
    "    et la visualise en utilisant `seaborn` et `matplotlib`.\n",
    "\n",
    "    Paramètre(s)\n",
    "    ----------\n",
    "    cm : np.ndarray\n",
    "        Matrice de confusion (2x2) sous forme de tableau NumPy.\n",
    "    labels : List[str], optional\n",
    "        Liste des étiquettes à afficher pour les axes x et y. Par défaut, [\"Positive\", \"Negative\"].\n",
    "    \"\"\"\n",
    "    plt.figure(figsize=(8, 6))\n",
    "    sns.heatmap(\n",
    "        cm,\n",
    "        annot=True,\n",
    "        fmt='d',\n",
    "        cmap='Blues', \n",
    "        xticklabels=labels, \n",
    "        yticklabels=labels\n",
    "    )\n",
    "    plt.ylabel(\"Predicted Values\")\n",
    "    plt.xlabel(\"Actual Values\")\n",
    "    plt.title(\"Confusion Matrix\")\n",
    "    plt.show()"
   ]
  },
  {
   "cell_type": "code",
   "execution_count": null,
   "metadata": {},
   "outputs": [],
   "source": [
    "def plot_loss_curves(train_losses: List[float], val_losses: List[float], fold_idx: int) -> None:\n",
    "    \"\"\"Affichage des courbes de perte pour l'entraînement et la validation\n",
    "\n",
    "    Cette fonction génère un graphique montrant l'évolution des pertes d'entraînement\n",
    "    et de validation en fonction des époques pour un pli donné (fold).\n",
    "\n",
    "    Paramètre(s)\n",
    "    ----------\n",
    "    train_losses : List[float]\n",
    "        Liste contenant les valeurs de la perte d'entraînement pour chaque époque.\n",
    "    val_losses : List[float]\n",
    "        Liste contenant les valeurs de la perte de validation pour chaque époque.\n",
    "    fold_idx : int\n",
    "        Index du pli (fold) en cours, utilisé pour annoter le titre du graphique.\n",
    "    \"\"\"\n",
    "    plt.figure(figsize=(10, 6))\n",
    "    epochs = range(1, len(train_losses) + 1)\n",
    "    plt.plot(epochs, train_losses, label=\"Training Loss\", marker='o')\n",
    "    plt.plot(epochs, val_losses, label=\"Validation Loss\", marker='o')\n",
    "    plt.title(f\"Loss Curves for Fold {fold_idx}\")\n",
    "    plt.xlabel(\"Epochs\")\n",
    "    plt.ylabel(\"Loss\")\n",
    "    plt.legend()\n",
    "    plt.grid()\n",
    "    plt.show()"
   ]
  },
  {
   "cell_type": "code",
   "execution_count": null,
   "metadata": {},
   "outputs": [
    {
     "name": "stdout",
     "output_type": "stream",
     "text": [
      "\n",
      "Fold 1:\n",
      "Epoch 1/10\n"
     ]
    },
    {
     "name": "stderr",
     "output_type": "stream",
     "text": [
      "Training: 100%|██████████| 25/25 [30:52<00:00, 74.12s/it, loss=0.864]\n",
      "Validating: 100%|██████████| 13/13 [15:39<00:00, 72.24s/it]\n"
     ]
    },
    {
     "name": "stdout",
     "output_type": "stream",
     "text": [
      "Epoch 1 - Train Loss: 0.8390, Val Loss: 0.7365, Val Accuracy: 0.5300\n",
      "New best validation accuracy: 0.5300\n",
      "Epoch 2/10\n"
     ]
    },
    {
     "name": "stderr",
     "output_type": "stream",
     "text": [
      "Training: 100%|██████████| 25/25 [30:50<00:00, 74.04s/it, loss=0.526]\n",
      "Validating: 100%|██████████| 13/13 [15:38<00:00, 72.22s/it]\n"
     ]
    },
    {
     "name": "stdout",
     "output_type": "stream",
     "text": [
      "Epoch 2 - Train Loss: 0.6946, Val Loss: 0.7122, Val Accuracy: 0.4900\n",
      "Epoch 3/10\n"
     ]
    },
    {
     "name": "stderr",
     "output_type": "stream",
     "text": [
      "Training: 100%|██████████| 25/25 [30:52<00:00, 74.11s/it, loss=0.405]\n",
      "Validating: 100%|██████████| 13/13 [15:37<00:00, 72.14s/it]\n"
     ]
    },
    {
     "name": "stdout",
     "output_type": "stream",
     "text": [
      "Epoch 3 - Train Loss: 0.5692, Val Loss: 0.8072, Val Accuracy: 0.5200\n",
      "Epoch 4/10\n"
     ]
    },
    {
     "name": "stderr",
     "output_type": "stream",
     "text": [
      "Training: 100%|██████████| 25/25 [30:49<00:00, 73.98s/it, loss=0.622]\n",
      "Validating: 100%|██████████| 13/13 [15:32<00:00, 71.73s/it]\n"
     ]
    },
    {
     "name": "stdout",
     "output_type": "stream",
     "text": [
      "Epoch 4 - Train Loss: 0.5469, Val Loss: 0.8437, Val Accuracy: 0.4900\n",
      "Epoch 5/10\n"
     ]
    },
    {
     "name": "stderr",
     "output_type": "stream",
     "text": [
      "Training: 100%|██████████| 25/25 [30:51<00:00, 74.06s/it, loss=0.393]\n",
      "Validating: 100%|██████████| 13/13 [15:38<00:00, 72.17s/it]\n"
     ]
    },
    {
     "name": "stdout",
     "output_type": "stream",
     "text": [
      "Epoch 5 - Train Loss: 0.5282, Val Loss: 0.8900, Val Accuracy: 0.5700\n",
      "New best validation accuracy: 0.5700\n",
      "Epoch 6/10\n"
     ]
    },
    {
     "name": "stderr",
     "output_type": "stream",
     "text": [
      "Training: 100%|██████████| 25/25 [30:48<00:00, 73.93s/it, loss=0.257]\n",
      "Validating: 100%|██████████| 13/13 [15:37<00:00, 72.12s/it]\n"
     ]
    },
    {
     "name": "stdout",
     "output_type": "stream",
     "text": [
      "Epoch 6 - Train Loss: 0.4564, Val Loss: 1.1324, Val Accuracy: 0.4600\n",
      "Epoch 7/10\n"
     ]
    },
    {
     "name": "stderr",
     "output_type": "stream",
     "text": [
      "Training: 100%|██████████| 25/25 [30:47<00:00, 73.91s/it, loss=0.767]\n",
      "Validating: 100%|██████████| 13/13 [15:35<00:00, 71.96s/it]\n"
     ]
    },
    {
     "name": "stdout",
     "output_type": "stream",
     "text": [
      "Epoch 7 - Train Loss: 0.4579, Val Loss: 1.0840, Val Accuracy: 0.5100\n",
      "Epoch 8/10\n"
     ]
    },
    {
     "name": "stderr",
     "output_type": "stream",
     "text": [
      "Training: 100%|██████████| 25/25 [30:50<00:00, 74.02s/it, loss=0.655]\n",
      "Validating: 100%|██████████| 13/13 [15:37<00:00, 72.08s/it]\n"
     ]
    },
    {
     "name": "stdout",
     "output_type": "stream",
     "text": [
      "Epoch 8 - Train Loss: 0.4523, Val Loss: 0.9875, Val Accuracy: 0.5700\n",
      "Epoch 9/10\n"
     ]
    },
    {
     "name": "stderr",
     "output_type": "stream",
     "text": [
      "Training: 100%|██████████| 25/25 [30:48<00:00, 73.92s/it, loss=0.208]\n",
      "Validating: 100%|██████████| 13/13 [15:36<00:00, 72.06s/it]\n"
     ]
    },
    {
     "name": "stdout",
     "output_type": "stream",
     "text": [
      "Epoch 9 - Train Loss: 0.3871, Val Loss: 1.1418, Val Accuracy: 0.4900\n",
      "Epoch 10/10\n"
     ]
    },
    {
     "name": "stderr",
     "output_type": "stream",
     "text": [
      "Training: 100%|██████████| 25/25 [30:43<00:00, 73.72s/it, loss=0.514]\n",
      "Validating: 100%|██████████| 13/13 [15:34<00:00, 71.86s/it]\n"
     ]
    },
    {
     "name": "stdout",
     "output_type": "stream",
     "text": [
      "Epoch 10 - Train Loss: 0.3729, Val Loss: 1.0801, Val Accuracy: 0.5500\n",
      "Early stopping triggered after 10 epochs. No improvement for 5 consecutive epochs.\n"
     ]
    },
    {
     "data": {
      "image/png": "[encoded data removed]",
      "text/plain": [
       "<Figure size 1000x600 with 1 Axes>"
      ]
     },
     "metadata": {},
     "output_type": "display_data"
    },
    {
     "name": "stdout",
     "output_type": "stream",
     "text": [
      "Metrics for Fold 1:\n",
      "Accuracy: 0.5500\n",
      "Precision: 0.5573\n",
      "Recall: 0.5500\n",
      "F1 Score: 0.5509\n",
      "Confusion Matrix for Fold 1:\n",
      "[[26 19]\n",
      " [26 29]]\n"
     ]
    },
    {
     "data": {
      "image/png": "[encoded data removed]",
      "text/plain": [
       "<Figure size 800x600 with 2 Axes>"
      ]
     },
     "metadata": {},
     "output_type": "display_data"
    },
    {
     "name": "stdout",
     "output_type": "stream",
     "text": [
      "Updated overall best accuracy to 0.5700 at Fold 1\n",
      "\n",
      "Fold 2:\n",
      "Epoch 1/10\n"
     ]
    },
    {
     "name": "stderr",
     "output_type": "stream",
     "text": [
      "Training: 100%|██████████| 25/25 [31:06<00:00, 74.67s/it, loss=0.564]\n",
      "Validating: 100%|██████████| 13/13 [15:26<00:00, 71.29s/it]\n"
     ]
    },
    {
     "name": "stdout",
     "output_type": "stream",
     "text": [
      "Epoch 1 - Train Loss: 0.8197, Val Loss: 0.7387, Val Accuracy: 0.4300\n",
      "New best validation accuracy: 0.4300\n",
      "Epoch 2/10\n"
     ]
    },
    {
     "name": "stderr",
     "output_type": "stream",
     "text": [
      "Training: 100%|██████████| 25/25 [31:10<00:00, 74.82s/it, loss=0.484]\n",
      "Validating: 100%|██████████| 13/13 [15:26<00:00, 71.26s/it]\n"
     ]
    },
    {
     "name": "stdout",
     "output_type": "stream",
     "text": [
      "Epoch 2 - Train Loss: 0.6363, Val Loss: 0.8520, Val Accuracy: 0.4600\n",
      "New best validation accuracy: 0.4600\n",
      "Epoch 3/10\n"
     ]
    },
    {
     "name": "stderr",
     "output_type": "stream",
     "text": [
      "Training: 100%|██████████| 25/25 [31:10<00:00, 74.82s/it, loss=0.524]\n",
      "Validating: 100%|██████████| 13/13 [15:24<00:00, 71.13s/it]\n"
     ]
    },
    {
     "name": "stdout",
     "output_type": "stream",
     "text": [
      "Epoch 3 - Train Loss: 0.6049, Val Loss: 0.8454, Val Accuracy: 0.4900\n",
      "New best validation accuracy: 0.4900\n",
      "Epoch 4/10\n"
     ]
    },
    {
     "name": "stderr",
     "output_type": "stream",
     "text": [
      "Training: 100%|██████████| 25/25 [31:09<00:00, 74.79s/it, loss=0.476]\n",
      "Validating: 100%|██████████| 13/13 [15:24<00:00, 71.15s/it]\n"
     ]
    },
    {
     "name": "stdout",
     "output_type": "stream",
     "text": [
      "Epoch 4 - Train Loss: 0.4819, Val Loss: 0.8917, Val Accuracy: 0.5200\n",
      "New best validation accuracy: 0.5200\n",
      "Epoch 5/10\n"
     ]
    },
    {
     "name": "stderr",
     "output_type": "stream",
     "text": [
      "Training: 100%|██████████| 25/25 [31:09<00:00, 74.78s/it, loss=0.598]\n",
      "Validating: 100%|██████████| 13/13 [15:18<00:00, 70.69s/it]\n"
     ]
    },
    {
     "name": "stdout",
     "output_type": "stream",
     "text": [
      "Epoch 5 - Train Loss: 0.4635, Val Loss: 0.9341, Val Accuracy: 0.5700\n",
      "New best validation accuracy: 0.5700\n",
      "Epoch 6/10\n"
     ]
    },
    {
     "name": "stderr",
     "output_type": "stream",
     "text": [
      "Training: 100%|██████████| 25/25 [31:10<00:00, 74.81s/it, loss=0.589]\n",
      "Validating: 100%|██████████| 13/13 [15:25<00:00, 71.18s/it]\n"
     ]
    },
    {
     "name": "stdout",
     "output_type": "stream",
     "text": [
      "Epoch 6 - Train Loss: 0.4654, Val Loss: 1.0031, Val Accuracy: 0.5100\n",
      "Epoch 7/10\n"
     ]
    },
    {
     "name": "stderr",
     "output_type": "stream",
     "text": [
      "Training: 100%|██████████| 25/25 [31:10<00:00, 74.81s/it, loss=0.482]\n",
      "Validating: 100%|██████████| 13/13 [15:25<00:00, 71.18s/it]\n"
     ]
    },
    {
     "name": "stdout",
     "output_type": "stream",
     "text": [
      "Epoch 7 - Train Loss: 0.3965, Val Loss: 1.0362, Val Accuracy: 0.5700\n",
      "Epoch 8/10\n"
     ]
    },
    {
     "name": "stderr",
     "output_type": "stream",
     "text": [
      "Training: 100%|██████████| 25/25 [31:14<00:00, 74.99s/it, loss=0.502]\n",
      "Validating: 100%|██████████| 13/13 [15:28<00:00, 71.44s/it]\n"
     ]
    },
    {
     "name": "stdout",
     "output_type": "stream",
     "text": [
      "Epoch 8 - Train Loss: 0.3776, Val Loss: 1.0220, Val Accuracy: 0.6100\n",
      "New best validation accuracy: 0.6100\n",
      "Epoch 9/10\n"
     ]
    },
    {
     "name": "stderr",
     "output_type": "stream",
     "text": [
      "Training: 100%|██████████| 25/25 [31:17<00:00, 75.09s/it, loss=0.707]\n",
      "Validating: 100%|██████████| 13/13 [15:27<00:00, 71.36s/it]\n"
     ]
    },
    {
     "name": "stdout",
     "output_type": "stream",
     "text": [
      "Epoch 9 - Train Loss: 0.3565, Val Loss: 1.1232, Val Accuracy: 0.5200\n",
      "Epoch 10/10\n"
     ]
    },
    {
     "name": "stderr",
     "output_type": "stream",
     "text": [
      "Training: 100%|██████████| 25/25 [31:14<00:00, 74.97s/it, loss=0.466]\n",
      "Validating: 100%|██████████| 13/13 [15:26<00:00, 71.24s/it]"
     ]
    },
    {
     "name": "stdout",
     "output_type": "stream",
     "text": [
      "Epoch 10 - Train Loss: 0.3645, Val Loss: 1.1593, Val Accuracy: 0.6000\n"
     ]
    },
    {
     "name": "stderr",
     "output_type": "stream",
     "text": [
      "\n"
     ]
    },
    {
     "data": {
      "image/png": "[encoded data removed]",
      "text/plain": [
       "<Figure size 1000x600 with 1 Axes>"
      ]
     },
     "metadata": {},
     "output_type": "display_data"
    },
    {
     "name": "stdout",
     "output_type": "stream",
     "text": [
      "Metrics for Fold 2:\n",
      "Accuracy: 0.6000\n",
      "Precision: 0.6019\n",
      "Recall: 0.6000\n",
      "F1 Score: 0.6000\n",
      "Confusion Matrix for Fold 2:\n",
      "[[30 18]\n",
      " [22 30]]\n"
     ]
    },
    {
     "data": {
      "image/png": "[encoded data removed]",
      "text/plain": [
       "<Figure size 800x600 with 2 Axes>"
      ]
     },
     "metadata": {},
     "output_type": "display_data"
    },
    {
     "name": "stdout",
     "output_type": "stream",
     "text": [
      "Updated overall best accuracy to 0.6100 at Fold 2\n",
      "\n",
      "Fold 3:\n",
      "Epoch 1/10\n"
     ]
    },
    {
     "name": "stderr",
     "output_type": "stream",
     "text": [
      "Training: 100%|██████████| 25/25 [31:10<00:00, 74.83s/it, loss=0.867]\n",
      "Validating: 100%|██████████| 13/13 [15:32<00:00, 71.70s/it]\n"
     ]
    },
    {
     "name": "stdout",
     "output_type": "stream",
     "text": [
      "Epoch 1 - Train Loss: 0.7981, Val Loss: 0.7025, Val Accuracy: 0.5300\n",
      "New best validation accuracy: 0.5300\n",
      "Epoch 2/10\n"
     ]
    },
    {
     "name": "stderr",
     "output_type": "stream",
     "text": [
      "Training: 100%|██████████| 25/25 [31:11<00:00, 74.87s/it, loss=0.648]\n",
      "Validating: 100%|██████████| 13/13 [15:30<00:00, 71.55s/it]\n"
     ]
    },
    {
     "name": "stdout",
     "output_type": "stream",
     "text": [
      "Epoch 2 - Train Loss: 0.6612, Val Loss: 0.7665, Val Accuracy: 0.5000\n",
      "Epoch 3/10\n"
     ]
    },
    {
     "name": "stderr",
     "output_type": "stream",
     "text": [
      "Training: 100%|██████████| 25/25 [31:09<00:00, 74.80s/it, loss=0.506]\n",
      "Validating: 100%|██████████| 13/13 [15:22<00:00, 70.98s/it]\n"
     ]
    },
    {
     "name": "stdout",
     "output_type": "stream",
     "text": [
      "Epoch 3 - Train Loss: 0.6222, Val Loss: 0.7560, Val Accuracy: 0.5700\n",
      "New best validation accuracy: 0.5700\n",
      "Epoch 4/10\n"
     ]
    },
    {
     "name": "stderr",
     "output_type": "stream",
     "text": [
      "Training: 100%|██████████| 25/25 [31:00<00:00, 74.43s/it, loss=0.51] \n",
      "Validating: 100%|██████████| 13/13 [15:27<00:00, 71.34s/it]\n"
     ]
    },
    {
     "name": "stdout",
     "output_type": "stream",
     "text": [
      "Epoch 4 - Train Loss: 0.5188, Val Loss: 0.8538, Val Accuracy: 0.5200\n",
      "Epoch 5/10\n"
     ]
    },
    {
     "name": "stderr",
     "output_type": "stream",
     "text": [
      "Training: 100%|██████████| 25/25 [31:21<00:00, 75.24s/it, loss=0.433]\n",
      "Validating: 100%|██████████| 13/13 [15:43<00:00, 72.57s/it]\n"
     ]
    },
    {
     "name": "stdout",
     "output_type": "stream",
     "text": [
      "Epoch 5 - Train Loss: 0.5036, Val Loss: 0.9109, Val Accuracy: 0.5200\n",
      "Epoch 6/10\n"
     ]
    },
    {
     "name": "stderr",
     "output_type": "stream",
     "text": [
      "Training: 100%|██████████| 25/25 [31:04<00:00, 74.59s/it, loss=0.555]\n",
      "Validating: 100%|██████████| 13/13 [15:23<00:00, 71.05s/it]\n"
     ]
    },
    {
     "name": "stdout",
     "output_type": "stream",
     "text": [
      "Epoch 6 - Train Loss: 0.4870, Val Loss: 0.9152, Val Accuracy: 0.5500\n",
      "Epoch 7/10\n"
     ]
    },
    {
     "name": "stderr",
     "output_type": "stream",
     "text": [
      "Training: 100%|██████████| 25/25 [31:04<00:00, 74.59s/it, loss=0.285]\n",
      "Validating: 100%|██████████| 13/13 [15:36<00:00, 72.00s/it]\n"
     ]
    },
    {
     "name": "stdout",
     "output_type": "stream",
     "text": [
      "Epoch 7 - Train Loss: 0.4466, Val Loss: 0.9780, Val Accuracy: 0.4900\n",
      "Epoch 8/10\n"
     ]
    },
    {
     "name": "stderr",
     "output_type": "stream",
     "text": [
      "Training: 100%|██████████| 25/25 [31:32<00:00, 75.71s/it, loss=0.272]\n",
      "Validating: 100%|██████████| 13/13 [15:37<00:00, 72.13s/it]"
     ]
    },
    {
     "name": "stdout",
     "output_type": "stream",
     "text": [
      "Epoch 8 - Train Loss: 0.3978, Val Loss: 1.0223, Val Accuracy: 0.5400\n",
      "Early stopping triggered after 8 epochs. No improvement for 5 consecutive epochs.\n"
     ]
    },
    {
     "name": "stderr",
     "output_type": "stream",
     "text": [
      "\n"
     ]
    },
    {
     "data": {
      "image/png": "[encoded data removed]",
      "text/plain": [
       "<Figure size 1000x600 with 1 Axes>"
      ]
     },
     "metadata": {},
     "output_type": "display_data"
    },
    {
     "name": "stdout",
     "output_type": "stream",
     "text": [
      "Metrics for Fold 3:\n",
      "Accuracy: 0.5400\n",
      "Precision: 0.5483\n",
      "Recall: 0.5400\n",
      "F1 Score: 0.5422\n",
      "Confusion Matrix for Fold 3:\n",
      "[[31 26]\n",
      " [20 23]]\n"
     ]
    },
    {
     "data": {
      "image/png": "[encoded data removed]",
      "text/plain": [
       "<Figure size 800x600 with 2 Axes>"
      ]
     },
     "metadata": {},
     "output_type": "display_data"
    },
    {
     "name": "stdout",
     "output_type": "stream",
     "text": [
      "Loaded the best model with accuracy 0.6100\n"
     ]
    }
   ],
   "source": [
    "best_accuracy = 0.0 \n",
    "best_model_state = None  \n",
    "for fold_idx, (train_idx, val_idx) in enumerate(fold_splits):\n",
    "    print(f\"\\nFold {fold_idx + 1}:\")\n",
    "    # Préparation des DataLoaders pour le pli\n",
    "    train_dataset = Subset(balanced_dataset, train_idx)\n",
    "    val_dataset = Subset(balanced_dataset, val_idx)\n",
    "    train_loader = DataLoader(train_dataset, batch_size=8, shuffle=True, num_workers=0)\n",
    "    val_loader = DataLoader(val_dataset, batch_size=8, shuffle=False, num_workers=0)\n",
    "    # Initialisation du modèle et de l'optimiseur pour chaque pli\n",
    "    model = AlexNetLSTM(num_classes=2).to(device)\n",
    "    model.lstm.flatten_parameters()\n",
    "    optimizer = Adam(model.parameters(), lr=0.001, betas=(0.9, 0.999), eps=1e-08)\n",
    "    criterion = nn.CrossEntropyLoss()\n",
    "     # Entraînement et validation pour le pli\n",
    "    fold_best_accuracy, fold_best_model_state, train_losses, val_losses = train_and_validate(\n",
    "        model,\n",
    "        train_loader,\n",
    "        val_loader,\n",
    "        epochs=10,\n",
    "        fold_idx=fold_idx + 1,\n",
    "        writer=writer\n",
    "    )\n",
    "    # Trace les courbes de perte pour le pli\n",
    "    plot_loss_curves(train_losses, val_losses, fold_idx + 1)\n",
    "    # Évaluation des métriques finales pour le pli\n",
    "    cm, acc, precision, recall, f1 = evaluate_model(model, val_loader)\n",
    "    # Affichage des métriques du pli\n",
    "    print(f\"Metrics for Fold {fold_idx + 1}:\")\n",
    "    print(f\"Accuracy: {acc:.4f}\")\n",
    "    print(f\"Precision: {precision:.4f}\")\n",
    "    print(f\"Recall: {recall:.4f}\")\n",
    "    print(f\"F1 Score: {f1:.4f}\")\n",
    "    print(f\"Confusion Matrix for Fold {fold_idx + 1}:\\n{cm}\")\n",
    "    plot_confusion_matrix(cm, labels=[\"Positive\", \"Negative\"])\n",
    "    # Mise à jour du meilleur modèle global en fonction de la précision de validation\n",
    "    if fold_best_accuracy > best_accuracy:\n",
    "        best_accuracy = fold_best_accuracy\n",
    "        best_model_state = fold_best_model_state\n",
    "        print(f\"Updated overall best accuracy to {best_accuracy:.4f} at Fold {fold_idx + 1}\")\n",
    "# Après tous les plis, chargement du meilleur modèle pour un entraînement ou une évaluation ultérieurs\n",
    "if best_model_state:\n",
    "    model.load_state_dict(best_model_state)\n",
    "    print(f\"Loaded the best model with accuracy {best_accuracy:.4f}\")"
   ]
  },
  {
   "cell_type": "code",
   "execution_count": null,
   "metadata": {},
   "outputs": [],
   "source": [
    "# Sauvegarde du meilleur modèle\n",
    "torch.save(model.state_dict(), '/kaggle/working//alexnet_best_model.pth')"
   ]
  },
  {
   "cell_type": "code",
   "execution_count": null,
   "metadata": {},
   "outputs": [],
   "source": [
    "# Fermeture de TensorBoard\n",
    "writer.close()"
   ]
  }
 ],
 "metadata": {
  "kernelspec": {
   "display_name": "ProjetGIF7005",
   "language": "python",
   "name": "python3"
  },
  "language_info": {
   "codemirror_mode": {
    "name": "ipython",
    "version": 3
   },
   "file_extension": ".py",
   "mimetype": "text/x-python",
   "name": "python",
   "nbconvert_exporter": "python",
   "pygments_lexer": "ipython3",
   "version": "3.11.11"
  }
 },
 "nbformat": 4,
 "nbformat_minor": 2
}
